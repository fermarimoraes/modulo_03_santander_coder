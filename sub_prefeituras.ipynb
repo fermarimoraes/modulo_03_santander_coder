{
 "cells": [
  {
   "cell_type": "code",
   "execution_count": 1,
   "metadata": {},
   "outputs": [],
   "source": [
    "import pandas as pd\n",
    "import unidecode"
   ]
  },
  {
   "cell_type": "code",
   "execution_count": 23,
   "metadata": {},
   "outputs": [],
   "source": [
    "df = pd.read_csv('datasets/sub_prefeituras.csv', sep=',')\n",
    "df.columns = df.columns.str.lower().str.replace(' ', '_')\n",
    "df['nome'] = df['nome'].apply(lambda x: unidecode.unidecode(x).upper())\n",
    "df['subprefeitura'] = df['subprefeitura'].apply(lambda x: unidecode.unidecode(x).upper())"
   ]
  },
  {
   "cell_type": "code",
   "execution_count": 12,
   "metadata": {},
   "outputs": [],
   "source": [
    "df.to_csv('datasets/sub_prefeituras_transformado.csv', index=False, sep=',')"
   ]
  },
  {
   "cell_type": "code",
   "execution_count": 75,
   "metadata": {},
   "outputs": [],
   "source": [
    "df_escolas = pd.read_csv('datasets/escolas.csv', sep=',')\n",
    "df_escolas.columns = df_escolas.columns.map(lambda x: unidecode.unidecode(x).lower())\n",
    "df_escolas.columns = [col.strip().replace(' ', '_') for col in df_escolas.columns]\n",
    "df_escolas['escolas_postos'] = df_escolas['escolas_postos'].apply(lambda x: unidecode.unidecode(x).upper())\n",
    "df_escolas['bairro'] = df_escolas['bairro'].apply(lambda x: unidecode.unidecode(x).upper())\n",
    "df_escolas['id'] = df_escolas['id'].astype(str).str.zfill(3)\n",
    "df_escolas['lat'] = df_escolas['lat'].str.replace(',', '.')\n",
    "df_escolas['lon'] = df_escolas['lon'].str.replace(',', '.')\n",
    "df_escolas['lat'] = pd.to_numeric(df_escolas['lat'], errors='coerce')\n",
    "df_escolas['lon'] = pd.to_numeric(df_escolas['lon'], errors='coerce')\n",
    "df_escolas['lat'] = df_escolas['lat'].round(5)\n",
    "df_escolas['lon'] = df_escolas['lon'].round(5)"
   ]
  },
  {
   "cell_type": "code",
   "execution_count": 76,
   "metadata": {},
   "outputs": [],
   "source": [
    "abreviacao_para_extenso = {\n",
    "    'R.': 'Rua',\n",
    "    'Av.': 'Avenida',\n",
    "    'Pça.': 'Praça',\n",
    "    'Estr.': 'Estrada'\n",
    "}\n",
    "\n",
    "def padronizar_endereco(endereco):\n",
    "    partes = endereco.split()  # Divide o endereço em palavras\n",
    "    partes = [abreviacao_para_extenso.get(part, part) for part in partes]\n",
    "    return ' '.join(partes)\n",
    "\n",
    "# Aplicar a função ao campo de endereço\n",
    "df_escolas['endereco'] = df_escolas['endereco'].apply(padronizar_endereco)"
   ]
  },
  {
   "cell_type": "code",
   "execution_count": 80,
   "metadata": {},
   "outputs": [],
   "source": [
    "df_escolas_sem_duplicatas = df_escolas.drop_duplicates(subset='id', keep='first')"
   ]
  },
  {
   "cell_type": "code",
   "execution_count": 81,
   "metadata": {},
   "outputs": [],
   "source": [
    "df_escolas_sem_duplicatas.to_csv('datasets/escolas_transformado.csv', index=False, sep=',')"
   ]
  },
  {
   "cell_type": "code",
   "execution_count": null,
   "metadata": {},
   "outputs": [],
   "source": []
  }
 ],
 "metadata": {
  "kernelspec": {
   "display_name": "Python 3",
   "language": "python",
   "name": "python3"
  },
  "language_info": {
   "codemirror_mode": {
    "name": "ipython",
    "version": 3
   },
   "file_extension": ".py",
   "mimetype": "text/x-python",
   "name": "python",
   "nbconvert_exporter": "python",
   "pygments_lexer": "ipython3",
   "version": "3.9.13"
  },
  "orig_nbformat": 4,
  "vscode": {
   "interpreter": {
    "hash": "ad2bdc8ecc057115af97d19610ffacc2b4e99fae6737bb82f5d7fb13d2f2c186"
   }
  }
 },
 "nbformat": 4,
 "nbformat_minor": 2
}
